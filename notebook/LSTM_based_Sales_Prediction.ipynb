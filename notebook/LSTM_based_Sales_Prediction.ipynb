{
 "cells": [
  {
   "cell_type": "code",
   "execution_count": 1,
   "metadata": {},
   "outputs": [],
   "source": [
    "import sys\n",
    "import os\n",
    "\n",
    "sys.path.append(os.path.abspath('C:/Users/teeyob/Rossmann_Sales_Forecasting/scripts'))\n",
    "import pandas as pd\n",
    "\n",
    "\n"
   ]
  },
  {
   "cell_type": "code",
   "execution_count": 2,
   "metadata": {},
   "outputs": [
    {
     "name": "stderr",
     "output_type": "stream",
     "text": [
      "C:\\Users\\teeyob\\AppData\\Local\\Temp\\ipykernel_5180\\1489791278.py:2: DtypeWarning: Columns (7) have mixed types. Specify dtype option on import or set low_memory=False.\n",
      "  train=pd.read_csv('C:/Users/teeyob/Rossmann_Sales_Forecasting/data/train.csv')\n"
     ]
    }
   ],
   "source": [
    "test=pd.read_csv('C:/Users/teeyob/Rossmann_Sales_Forecasting/data/test.csv')\n",
    "train=pd.read_csv('C:/Users/teeyob/Rossmann_Sales_Forecasting/data/train.csv')\n",
    "store=pd.read_csv('C:/Users/teeyob/Rossmann_Sales_Forecasting/data/store.csv')"
   ]
  },
  {
   "cell_type": "code",
   "execution_count": 3,
   "metadata": {},
   "outputs": [
    {
     "name": "stdout",
     "output_type": "stream",
     "text": [
      "<class 'pandas.core.frame.DataFrame'>\n",
      "RangeIndex: 1017209 entries, 0 to 1017208\n",
      "Data columns (total 18 columns):\n",
      " #   Column                     Non-Null Count    Dtype  \n",
      "---  ------                     --------------    -----  \n",
      " 0   Store                      1017209 non-null  int64  \n",
      " 1   DayOfWeek                  1017209 non-null  int64  \n",
      " 2   Date                       1017209 non-null  object \n",
      " 3   Sales                      1017209 non-null  int64  \n",
      " 4   Customers                  1017209 non-null  int64  \n",
      " 5   Open                       1017209 non-null  int64  \n",
      " 6   Promo                      1017209 non-null  int64  \n",
      " 7   StateHoliday               1017209 non-null  object \n",
      " 8   SchoolHoliday              1017209 non-null  int64  \n",
      " 9   StoreType                  1017209 non-null  object \n",
      " 10  Assortment                 1017209 non-null  object \n",
      " 11  CompetitionDistance        1014567 non-null  float64\n",
      " 12  CompetitionOpenSinceMonth  693861 non-null   float64\n",
      " 13  CompetitionOpenSinceYear   693861 non-null   float64\n",
      " 14  Promo2                     1017209 non-null  int64  \n",
      " 15  Promo2SinceWeek            509178 non-null   float64\n",
      " 16  Promo2SinceYear            509178 non-null   float64\n",
      " 17  PromoInterval              509178 non-null   object \n",
      "dtypes: float64(5), int64(8), object(5)\n",
      "memory usage: 139.7+ MB\n"
     ]
    }
   ],
   "source": [
    "train_store_merged = pd.merge(train, store, on='Store', how='left')\n",
    "train_store_merged.info()"
   ]
  },
  {
   "cell_type": "code",
   "execution_count": 4,
   "metadata": {},
   "outputs": [
    {
     "name": "stderr",
     "output_type": "stream",
     "text": [
      "C:\\Users\\teeyob\\Rossmann_Sales_Forecasting\\scripts\\lstm_sales_prediction.py:20: FutureWarning: A value is trying to be set on a copy of a DataFrame or Series through chained assignment using an inplace method.\n",
      "The behavior will change in pandas 3.0. This inplace method will never work because the intermediate object on which we are setting values always behaves as a copy.\n",
      "\n",
      "For example, when doing 'df[col].method(value, inplace=True)', try using 'df.method({col: value}, inplace=True)' or df[col] = df[col].method(value) instead, to perform the operation inplace on the original object.\n",
      "\n",
      "\n",
      "  df['CompetitionDistance'].fillna(df['CompetitionDistance'].mean(), inplace=True)\n",
      "c:\\Users\\teeyob\\Rossmann_Sales_Forecasting\\.venv\\Lib\\site-packages\\keras\\src\\layers\\rnn\\rnn.py:204: UserWarning: Do not pass an `input_shape`/`input_dim` argument to a layer. When using Sequential models, prefer using an `Input(shape)` object as the first layer in the model instead.\n",
      "  super().__init__(**kwargs)\n"
     ]
    },
    {
     "name": "stdout",
     "output_type": "stream",
     "text": [
      "Epoch 1/50\n",
      "\u001b[1m25430/25430\u001b[0m \u001b[32m━━━━━━━━━━━━━━━━━━━━\u001b[0m\u001b[37m\u001b[0m \u001b[1m285s\u001b[0m 11ms/step - loss: 0.0217\n",
      "Epoch 2/50\n",
      "\u001b[1m25430/25430\u001b[0m \u001b[32m━━━━━━━━━━━━━━━━━━━━\u001b[0m\u001b[37m\u001b[0m \u001b[1m288s\u001b[0m 11ms/step - loss: 0.0190\n",
      "Epoch 3/50\n",
      "\u001b[1m25430/25430\u001b[0m \u001b[32m━━━━━━━━━━━━━━━━━━━━\u001b[0m\u001b[37m\u001b[0m \u001b[1m279s\u001b[0m 11ms/step - loss: 0.0187\n",
      "Epoch 4/50\n",
      "\u001b[1m25430/25430\u001b[0m \u001b[32m━━━━━━━━━━━━━━━━━━━━\u001b[0m\u001b[37m\u001b[0m \u001b[1m283s\u001b[0m 11ms/step - loss: 0.0185\n",
      "Epoch 5/50\n",
      "\u001b[1m25430/25430\u001b[0m \u001b[32m━━━━━━━━━━━━━━━━━━━━\u001b[0m\u001b[37m\u001b[0m \u001b[1m286s\u001b[0m 11ms/step - loss: 0.0182\n",
      "Epoch 6/50\n",
      "\u001b[1m25430/25430\u001b[0m \u001b[32m━━━━━━━━━━━━━━━━━━━━\u001b[0m\u001b[37m\u001b[0m \u001b[1m278s\u001b[0m 11ms/step - loss: 0.0177\n",
      "Epoch 7/50\n",
      "\u001b[1m25430/25430\u001b[0m \u001b[32m━━━━━━━━━━━━━━━━━━━━\u001b[0m\u001b[37m\u001b[0m \u001b[1m276s\u001b[0m 11ms/step - loss: 0.0171\n",
      "Epoch 8/50\n",
      "\u001b[1m25430/25430\u001b[0m \u001b[32m━━━━━━━━━━━━━━━━━━━━\u001b[0m\u001b[37m\u001b[0m \u001b[1m293s\u001b[0m 12ms/step - loss: 0.0165\n",
      "Epoch 9/50\n",
      "\u001b[1m25430/25430\u001b[0m \u001b[32m━━━━━━━━━━━━━━━━━━━━\u001b[0m\u001b[37m\u001b[0m \u001b[1m285s\u001b[0m 11ms/step - loss: 0.0158\n",
      "Epoch 10/50\n",
      "\u001b[1m25430/25430\u001b[0m \u001b[32m━━━━━━━━━━━━━━━━━━━━\u001b[0m\u001b[37m\u001b[0m \u001b[1m282s\u001b[0m 11ms/step - loss: 0.0153\n",
      "Epoch 11/50\n",
      "\u001b[1m25430/25430\u001b[0m \u001b[32m━━━━━━━━━━━━━━━━━━━━\u001b[0m\u001b[37m\u001b[0m \u001b[1m281s\u001b[0m 11ms/step - loss: 0.0147\n",
      "Epoch 12/50\n",
      "\u001b[1m25430/25430\u001b[0m \u001b[32m━━━━━━━━━━━━━━━━━━━━\u001b[0m\u001b[37m\u001b[0m \u001b[1m5457s\u001b[0m 215ms/step - loss: 0.0144\n",
      "Epoch 13/50\n",
      "\u001b[1m25430/25430\u001b[0m \u001b[32m━━━━━━━━━━━━━━━━━━━━\u001b[0m\u001b[37m\u001b[0m \u001b[1m280s\u001b[0m 11ms/step - loss: 0.0142\n",
      "Epoch 14/50\n",
      "\u001b[1m25430/25430\u001b[0m \u001b[32m━━━━━━━━━━━━━━━━━━━━\u001b[0m\u001b[37m\u001b[0m \u001b[1m285s\u001b[0m 11ms/step - loss: 0.0140\n",
      "Epoch 15/50\n",
      "\u001b[1m25430/25430\u001b[0m \u001b[32m━━━━━━━━━━━━━━━━━━━━\u001b[0m\u001b[37m\u001b[0m \u001b[1m303s\u001b[0m 12ms/step - loss: 0.0136\n",
      "Epoch 16/50\n",
      "\u001b[1m25430/25430\u001b[0m \u001b[32m━━━━━━━━━━━━━━━━━━━━\u001b[0m\u001b[37m\u001b[0m \u001b[1m295s\u001b[0m 12ms/step - loss: 0.0134\n",
      "Epoch 17/50\n",
      "\u001b[1m25430/25430\u001b[0m \u001b[32m━━━━━━━━━━━━━━━━━━━━\u001b[0m\u001b[37m\u001b[0m \u001b[1m281s\u001b[0m 11ms/step - loss: 0.0131\n",
      "Epoch 18/50\n",
      "\u001b[1m25430/25430\u001b[0m \u001b[32m━━━━━━━━━━━━━━━━━━━━\u001b[0m\u001b[37m\u001b[0m \u001b[1m286s\u001b[0m 11ms/step - loss: 0.0130\n",
      "Epoch 19/50\n",
      "\u001b[1m25430/25430\u001b[0m \u001b[32m━━━━━━━━━━━━━━━━━━━━\u001b[0m\u001b[37m\u001b[0m \u001b[1m281s\u001b[0m 11ms/step - loss: 0.0129\n",
      "Epoch 20/50\n",
      "\u001b[1m25430/25430\u001b[0m \u001b[32m━━━━━━━━━━━━━━━━━━━━\u001b[0m\u001b[37m\u001b[0m \u001b[1m276s\u001b[0m 11ms/step - loss: 0.0127\n",
      "Epoch 21/50\n",
      "\u001b[1m25430/25430\u001b[0m \u001b[32m━━━━━━━━━━━━━━━━━━━━\u001b[0m\u001b[37m\u001b[0m \u001b[1m276s\u001b[0m 11ms/step - loss: 0.0126\n",
      "Epoch 22/50\n",
      "\u001b[1m25430/25430\u001b[0m \u001b[32m━━━━━━━━━━━━━━━━━━━━\u001b[0m\u001b[37m\u001b[0m \u001b[1m271s\u001b[0m 11ms/step - loss: 0.0124\n",
      "Epoch 23/50\n",
      "\u001b[1m25430/25430\u001b[0m \u001b[32m━━━━━━━━━━━━━━━━━━━━\u001b[0m\u001b[37m\u001b[0m \u001b[1m289s\u001b[0m 11ms/step - loss: 0.0123\n",
      "Epoch 24/50\n",
      "\u001b[1m25430/25430\u001b[0m \u001b[32m━━━━━━━━━━━━━━━━━━━━\u001b[0m\u001b[37m\u001b[0m \u001b[1m287s\u001b[0m 11ms/step - loss: 0.0122\n",
      "Epoch 25/50\n",
      "\u001b[1m25430/25430\u001b[0m \u001b[32m━━━━━━━━━━━━━━━━━━━━\u001b[0m\u001b[37m\u001b[0m \u001b[1m294s\u001b[0m 12ms/step - loss: 0.0121\n",
      "Epoch 26/50\n",
      "\u001b[1m25430/25430\u001b[0m \u001b[32m━━━━━━━━━━━━━━━━━━━━\u001b[0m\u001b[37m\u001b[0m \u001b[1m277s\u001b[0m 11ms/step - loss: 0.0121\n",
      "Epoch 27/50\n",
      "\u001b[1m25430/25430\u001b[0m \u001b[32m━━━━━━━━━━━━━━━━━━━━\u001b[0m\u001b[37m\u001b[0m \u001b[1m290s\u001b[0m 11ms/step - loss: 0.0120\n",
      "Epoch 28/50\n",
      "\u001b[1m25430/25430\u001b[0m \u001b[32m━━━━━━━━━━━━━━━━━━━━\u001b[0m\u001b[37m\u001b[0m \u001b[1m291s\u001b[0m 11ms/step - loss: 0.0119\n",
      "Epoch 29/50\n",
      "\u001b[1m25430/25430\u001b[0m \u001b[32m━━━━━━━━━━━━━━━━━━━━\u001b[0m\u001b[37m\u001b[0m \u001b[1m270s\u001b[0m 11ms/step - loss: 0.0118\n",
      "Epoch 30/50\n",
      "\u001b[1m25430/25430\u001b[0m \u001b[32m━━━━━━━━━━━━━━━━━━━━\u001b[0m\u001b[37m\u001b[0m \u001b[1m281s\u001b[0m 11ms/step - loss: 0.0117\n",
      "Epoch 31/50\n",
      "\u001b[1m25430/25430\u001b[0m \u001b[32m━━━━━━━━━━━━━━━━━━━━\u001b[0m\u001b[37m\u001b[0m \u001b[1m287s\u001b[0m 11ms/step - loss: 0.0117\n",
      "Epoch 32/50\n",
      "\u001b[1m25430/25430\u001b[0m \u001b[32m━━━━━━━━━━━━━━━━━━━━\u001b[0m\u001b[37m\u001b[0m \u001b[1m295s\u001b[0m 12ms/step - loss: 0.0115\n",
      "Epoch 33/50\n",
      "\u001b[1m25430/25430\u001b[0m \u001b[32m━━━━━━━━━━━━━━━━━━━━\u001b[0m\u001b[37m\u001b[0m \u001b[1m292s\u001b[0m 11ms/step - loss: 0.0115\n",
      "Epoch 34/50\n",
      "\u001b[1m25430/25430\u001b[0m \u001b[32m━━━━━━━━━━━━━━━━━━━━\u001b[0m\u001b[37m\u001b[0m \u001b[1m275s\u001b[0m 11ms/step - loss: 0.0116\n",
      "Epoch 35/50\n",
      "\u001b[1m25430/25430\u001b[0m \u001b[32m━━━━━━━━━━━━━━━━━━━━\u001b[0m\u001b[37m\u001b[0m \u001b[1m266s\u001b[0m 10ms/step - loss: 0.0115\n",
      "Epoch 36/50\n",
      "\u001b[1m25430/25430\u001b[0m \u001b[32m━━━━━━━━━━━━━━━━━━━━\u001b[0m\u001b[37m\u001b[0m \u001b[1m266s\u001b[0m 10ms/step - loss: 0.0114\n",
      "Epoch 37/50\n",
      "\u001b[1m25430/25430\u001b[0m \u001b[32m━━━━━━━━━━━━━━━━━━━━\u001b[0m\u001b[37m\u001b[0m \u001b[1m281s\u001b[0m 11ms/step - loss: 0.0113\n",
      "Epoch 38/50\n",
      "\u001b[1m25430/25430\u001b[0m \u001b[32m━━━━━━━━━━━━━━━━━━━━\u001b[0m\u001b[37m\u001b[0m \u001b[1m270s\u001b[0m 11ms/step - loss: 0.0114\n",
      "Epoch 39/50\n",
      "\u001b[1m25430/25430\u001b[0m \u001b[32m━━━━━━━━━━━━━━━━━━━━\u001b[0m\u001b[37m\u001b[0m \u001b[1m274s\u001b[0m 11ms/step - loss: 0.0113\n",
      "Epoch 40/50\n",
      "\u001b[1m25430/25430\u001b[0m \u001b[32m━━━━━━━━━━━━━━━━━━━━\u001b[0m\u001b[37m\u001b[0m \u001b[1m271s\u001b[0m 11ms/step - loss: 0.0113\n",
      "Epoch 41/50\n",
      "\u001b[1m25430/25430\u001b[0m \u001b[32m━━━━━━━━━━━━━━━━━━━━\u001b[0m\u001b[37m\u001b[0m \u001b[1m287s\u001b[0m 11ms/step - loss: 0.0112\n",
      "Epoch 42/50\n",
      "\u001b[1m25430/25430\u001b[0m \u001b[32m━━━━━━━━━━━━━━━━━━━━\u001b[0m\u001b[37m\u001b[0m \u001b[1m276s\u001b[0m 11ms/step - loss: 0.0112\n",
      "Epoch 43/50\n",
      "\u001b[1m25430/25430\u001b[0m \u001b[32m━━━━━━━━━━━━━━━━━━━━\u001b[0m\u001b[37m\u001b[0m \u001b[1m261s\u001b[0m 10ms/step - loss: 0.0113\n",
      "Epoch 44/50\n",
      "\u001b[1m25430/25430\u001b[0m \u001b[32m━━━━━━━━━━━━━━━━━━━━\u001b[0m\u001b[37m\u001b[0m \u001b[1m259s\u001b[0m 10ms/step - loss: 0.0112\n",
      "Epoch 45/50\n",
      "\u001b[1m25430/25430\u001b[0m \u001b[32m━━━━━━━━━━━━━━━━━━━━\u001b[0m\u001b[37m\u001b[0m \u001b[1m266s\u001b[0m 10ms/step - loss: 0.0111\n",
      "Epoch 46/50\n",
      "\u001b[1m25430/25430\u001b[0m \u001b[32m━━━━━━━━━━━━━━━━━━━━\u001b[0m\u001b[37m\u001b[0m \u001b[1m1083s\u001b[0m 43ms/step - loss: 0.0110\n",
      "Epoch 47/50\n",
      "\u001b[1m25430/25430\u001b[0m \u001b[32m━━━━━━━━━━━━━━━━━━━━\u001b[0m\u001b[37m\u001b[0m \u001b[1m292s\u001b[0m 11ms/step - loss: 0.0110\n",
      "Epoch 48/50\n",
      "\u001b[1m25430/25430\u001b[0m \u001b[32m━━━━━━━━━━━━━━━━━━━━\u001b[0m\u001b[37m\u001b[0m \u001b[1m299s\u001b[0m 12ms/step - loss: 0.0110\n",
      "Epoch 49/50\n",
      "\u001b[1m25430/25430\u001b[0m \u001b[32m━━━━━━━━━━━━━━━━━━━━\u001b[0m\u001b[37m\u001b[0m \u001b[1m317s\u001b[0m 12ms/step - loss: 0.0109\n",
      "Epoch 50/50\n",
      "\u001b[1m25430/25430\u001b[0m \u001b[32m━━━━━━━━━━━━━━━━━━━━\u001b[0m\u001b[37m\u001b[0m \u001b[1m298s\u001b[0m 12ms/step - loss: 0.0109\n"
     ]
    },
    {
     "data": {
      "image/png": "[encoded data removed]",
      "text/plain": [
       "<Figure size 640x480 with 1 Axes>"
      ]
     },
     "metadata": {},
     "output_type": "display_data"
    },
    {
     "name": "stdout",
     "output_type": "stream",
     "text": [
      "\u001b[1m6358/6358\u001b[0m \u001b[32m━━━━━━━━━━━━━━━━━━━━\u001b[0m\u001b[37m\u001b[0m \u001b[1m24s\u001b[0m 4ms/step\n",
      "Predicted sales for the next day: [9152.44]\n"
     ]
    }
   ],
   "source": [
    "\n",
    "from sklearn.model_selection import train_test_split, cross_validate\n",
    "import pandas as pd\n",
    "from lstm_sales_prediction import preprocess_data, check_stationarity, create_lagged_features, scale_data, build_lstm_model, train_model, make_predictions, plot_loss\n",
    "\n",
    "\n",
    "df = preprocess_data(train_store_merged)\n",
    "\n",
    "df = check_stationarity(df, 'Sales')\n",
    "\n",
    "n_lag = 30  \n",
    "features, target = create_lagged_features(df[['Sales']], n_lag)\n",
    "\n",
    "X_train, X_test, y_train, y_test = train_test_split(features, target, test_size=0.2, shuffle=False)\n",
    "\n",
    "X_train_scaled, y_train_scaled, scaler = scale_data(X_train, y_train)\n",
    "\n",
    "input_shape = (X_train_scaled.shape[1], X_train_scaled.shape[2])\n",
    "model = build_lstm_model(input_shape)\n",
    "\n",
    "history = train_model(model, X_train_scaled, y_train_scaled)\n",
    "\n",
    "plot_loss(history)\n",
    "\n",
    "\n",
    "predictions = make_predictions(model, X_test, scaler)\n",
    "\n",
    "\n",
    "print(f'Predicted sales for the next day: {predictions[-1]}')\n"
   ]
  },
  {
   "cell_type": "code",
   "execution_count": 5,
   "metadata": {},
   "outputs": [
    {
     "name": "stderr",
     "output_type": "stream",
     "text": [
      "WARNING:absl:You are saving your model as an HDF5 file via `model.save()` or `keras.saving.save_model(model)`. This file format is considered legacy. We recommend using instead the native Keras format, e.g. `model.save('my_model.keras')` or `keras.saving.save_model(model, 'my_model.keras')`. \n"
     ]
    }
   ],
   "source": [
    "model.save('lstm_sales_model.h5')\n"
   ]
  }
 ],
 "metadata": {
  "kernelspec": {
   "display_name": ".venv",
   "language": "python",
   "name": "python3"
  },
  "language_info": {
   "codemirror_mode": {
    "name": "ipython",
    "version": 3
   },
   "file_extension": ".py",
   "mimetype": "text/x-python",
   "name": "python",
   "nbconvert_exporter": "python",
   "pygments_lexer": "ipython3",
   "version": "3.12.5"
  }
 },
 "nbformat": 4,
 "nbformat_minor": 2
}

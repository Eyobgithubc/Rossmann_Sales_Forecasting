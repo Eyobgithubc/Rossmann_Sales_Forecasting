{
 "cells": [
  {
   "cell_type": "code",
   "execution_count": 1,
   "metadata": {},
   "outputs": [],
   "source": [
    "import pandas as pd \n",
    "import matplotlib.pyplot as plt\n",
    "import seaborn as sns\n",
    "import sys\n",
    "import os\n",
    "sys.path.append(os.path.abspath('C:/Users/teeyob/Rossmann_Sales_Forecasting/scripts'))\n",
    "\n",
    "\n"
   ]
  },
  {
   "cell_type": "code",
   "execution_count": 2,
   "metadata": {},
   "outputs": [
    {
     "name": "stderr",
     "output_type": "stream",
     "text": [
      "C:\\Users\\teeyob\\AppData\\Local\\Temp\\ipykernel_6132\\1489791278.py:2: DtypeWarning: Columns (7) have mixed types. Specify dtype option on import or set low_memory=False.\n",
      "  train=pd.read_csv('C:/Users/teeyob/Rossmann_Sales_Forecasting/data/train.csv')\n"
     ]
    }
   ],
   "source": [
    "test=pd.read_csv('C:/Users/teeyob/Rossmann_Sales_Forecasting/data/test.csv')\n",
    "train=pd.read_csv('C:/Users/teeyob/Rossmann_Sales_Forecasting/data/train.csv')\n",
    "store=pd.read_csv('C:/Users/teeyob/Rossmann_Sales_Forecasting/data/store.csv')"
   ]
  },
  {
   "cell_type": "code",
   "execution_count": 3,
   "metadata": {},
   "outputs": [],
   "source": [
    "train_store_merged = pd.merge(train, store, on='Store', how='left')"
   ]
  },
  {
   "cell_type": "code",
   "execution_count": 7,
   "metadata": {},
   "outputs": [
    {
     "name": "stderr",
     "output_type": "stream",
     "text": [
      "C:\\Users\\teeyob\\Rossmann_Sales_Forecasting\\scripts\\Retail_Sales_Data_Preprocessing_Pipeline.py:7: UserWarning: The argument 'infer_datetime_format' is deprecated and will be removed in a future version. A strict version of it is now the default, see https://pandas.pydata.org/pdeps/0004-consistent-to-datetime-parsing.html. You can safely remove this argument.\n",
      "  df[\"Date\"] = pd.to_datetime(df[\"Date\"], infer_datetime_format=True)\n"
     ]
    }
   ],
   "source": [
    "from Retail_Sales_Data_Preprocessing_Pipeline import preprocess_data\n",
    "t=preprocess_data(train_store_merged)"
   ]
  },
  {
   "cell_type": "code",
   "execution_count": 10,
   "metadata": {},
   "outputs": [],
   "source": [
    "from sklearn.tree import DecisionTreeRegressor\n",
    "from sklearn.model_selection import GridSearchCV, train_test_split\n",
    "def tune_decision_tree_regressor(X_train, y_train):\n",
    "    model = DecisionTreeRegressor(random_state=0)\n",
    "    params = {\n",
    "        \"min_samples_split\": range(2, 25),\n",
    "        \"max_leaf_nodes\": range(2, 25)\n",
    "    }\n",
    "    grid_search = GridSearchCV(model, params, cv=5, scoring='neg_mean_squared_error')\n",
    "    grid_search.fit(X_train, y_train)\n",
    "    return grid_search.best_estimator_, grid_search.best_params_\n"
   ]
  },
  {
   "cell_type": "code",
   "execution_count": null,
   "metadata": {},
   "outputs": [],
   "source": [
    " X = t.drop(columns=['Sales'])\n",
    " y = t[target_column]"
   ]
  }
 ],
 "metadata": {
  "kernelspec": {
   "display_name": ".venv",
   "language": "python",
   "name": "python3"
  },
  "language_info": {
   "codemirror_mode": {
    "name": "ipython",
    "version": 3
   },
   "file_extension": ".py",
   "mimetype": "text/x-python",
   "name": "python",
   "nbconvert_exporter": "python",
   "pygments_lexer": "ipython3",
   "version": "3.12.5"
  }
 },
 "nbformat": 4,
 "nbformat_minor": 2
}
